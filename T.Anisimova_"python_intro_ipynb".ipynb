{
  "nbformat": 4,
  "nbformat_minor": 0,
  "metadata": {
    "colab": {
      "name": "Копия блокнота \"python_intro.ipynb\"",
      "provenance": [],
      "collapsed_sections": [],
      "include_colab_link": true
    },
    "kernelspec": {
      "name": "python3",
      "display_name": "Python 3"
    }
  },
  "cells": [
    {
      "cell_type": "markdown",
      "metadata": {
        "id": "view-in-github",
        "colab_type": "text"
      },
      "source": [
        "<a href=\"https://colab.research.google.com/github/t-linguist/python_for_CL/blob/master/T.Anisimova_%22python_intro_ipynb%22.ipynb\" target=\"_parent\"><img src=\"https://colab.research.google.com/assets/colab-badge.svg\" alt=\"Open In Colab\"/></a>"
      ]
    },
    {
      "cell_type": "markdown",
      "metadata": {
        "id": "1LEG84j7Irhq"
      },
      "source": [
        "сперва лучше заглянуть в [перезентацию](https://github.com/nstsj/python_for_CL/blob/master/class1/dpo_1.pdf)\n",
        "\n",
        "**Начинаем кодить:**\n",
        "\n",
        "*the simplest way:* питон можно использовать как калькулятор"
      ]
    },
    {
      "cell_type": "code",
      "metadata": {
        "id": "REcpQZl4IrHg"
      },
      "source": [
        "2+3 # запустите эту ячейку"
      ],
      "execution_count": null,
      "outputs": []
    },
    {
      "cell_type": "markdown",
      "metadata": {
        "id": "HhAroFDdJZQM"
      },
      "source": [
        "## основные операции с числами \n",
        "*(попробуйте сделать их в ячейке с кодом, подставляя вместо **x** и **y** какие-нибудь числа. Порядок операций можно задавать скобочками)*\n",
        "\n",
        "x + y\tСложение\n",
        "\n",
        "x - y\tВычитание\n",
        "\n",
        "x * y\tУмножение\n",
        "\n",
        "x / y\tДеление\n",
        "\n",
        "x // y\tПолучение целой части от деления\n",
        "\n",
        "x % y\tОстаток от деления\n",
        "\n",
        "-x\tСмена знака числа\n",
        "\n",
        "abs(x)\tМодуль числа\n",
        "\n",
        "x ** y\tВозведение в степень\n",
        "\n",
        "### сравнение:\n",
        "== \"равно\" x == y (*x* равен *y*)\n",
        "\n",
        "!= \"не равно\" x != y (*x* не равен *y*)\n",
        "\n",
        "\\> \"меньше\"\n",
        "\n",
        "< \"больше\"\n",
        "\n",
        "\\>= \"меньше или равно\"\n",
        "\n",
        "<= \"больше или равно\"\n",
        "\n",
        "\n",
        "\n",
        "\n",
        "\n"
      ]
    },
    {
      "cell_type": "markdown",
      "metadata": {
        "id": "6qzsLpHLipvD"
      },
      "source": [
        ""
      ]
    },
    {
      "cell_type": "markdown",
      "metadata": {
        "id": "xUogetUriqOB"
      },
      "source": [
        ""
      ]
    },
    {
      "cell_type": "code",
      "metadata": {
        "id": "ONtfI94Diqfy",
        "colab": {
          "base_uri": "https://localhost:8080/"
        },
        "outputId": "cb2038a8-a053-4f7a-ffcf-a77524294075"
      },
      "source": [
        "print(47 + 13, # Сложение\n",
        "47 - 13, # Вычитание\n",
        "47 * 13, # Умножение\n",
        "47 / 13, # Деление\n",
        "47 // 13, # Получение целой части деление\n",
        "47 % 13, # Остаток от деления\n",
        "-47, # Смена знака числа\n",
        "abs(-47), # Модуль числа\n",
        "47 ** 13, # Возведение в степень\n",
        "47 == 13, # равно\n",
        "47 != 13, # не равно\n",
        "47 > 13, # больше\n",
        "47 < 13, # меньше\n",
        "47 >= 13, # больше или равно\n",
        "47 <= 13, sep=\"\\n\") # меньше или равно"
      ],
      "execution_count": 14,
      "outputs": [
        {
          "output_type": "stream",
          "name": "stdout",
          "text": [
            "60\n",
            "34\n",
            "611\n",
            "3.6153846153846154\n",
            "3\n",
            "8\n",
            "-47\n",
            "47\n",
            "5460999706120583177327\n",
            "False\n",
            "True\n",
            "True\n",
            "False\n",
            "True\n",
            "False\n"
          ]
        }
      ]
    },
    {
      "cell_type": "code",
      "metadata": {
        "id": "ciLObZSYKPxP",
        "colab": {
          "base_uri": "https://localhost:8080/"
        },
        "outputId": "27a33e08-acef-45a5-affb-64652b435dc2"
      },
      "source": [
        "# пример\n",
        "(22+10)/3-15%2\n",
        "# в каком порядке выполняются операции?\n",
        "# 1) скобки (22+10)=32\n",
        "# 2) деление 32/3=10.666666666666666 и остаток от деления 15%2=1\n",
        "# 3) вычитание 10.666666666666666-1=9.666666666666666"
      ],
      "execution_count": 26,
      "outputs": [
        {
          "output_type": "execute_result",
          "data": {
            "text/plain": [
              "9.666666666666666"
            ]
          },
          "metadata": {},
          "execution_count": 26
        }
      ]
    },
    {
      "cell_type": "code",
      "metadata": {
        "id": "8gQ-_M-V5rue",
        "colab": {
          "base_uri": "https://localhost:8080/"
        },
        "outputId": "431cdbee-1d95-4a31-c6b5-900f9587ab11"
      },
      "source": [
        "# придумайте ваш пример в этой ячейке и запустите ее\n",
        "from math import pi\n",
        "pi + 96 - (14 ** 7 % 8)"
      ],
      "execution_count": 33,
      "outputs": [
        {
          "output_type": "execute_result",
          "data": {
            "text/plain": [
              "99.1415926535898"
            ]
          },
          "metadata": {},
          "execution_count": 33
        }
      ]
    },
    {
      "cell_type": "markdown",
      "metadata": {
        "id": "-bebyG-eMdbU"
      },
      "source": [
        "Порой для вычислений нам нужно сохранить результат. Для этого есть **переменные**. Переменные хранят ваши данные, мы *присваиваем им значение* через знак = "
      ]
    },
    {
      "cell_type": "code",
      "metadata": {
        "id": "DmQ4xiw_M-6o"
      },
      "source": [
        "a = 5 \n",
        "# мы создали переменную а и присвоили ей значение 5"
      ],
      "execution_count": 3,
      "outputs": []
    },
    {
      "cell_type": "markdown",
      "metadata": {
        "id": "bxWvxaPkNiyK"
      },
      "source": [
        "Переменные бывают разных типов, мы сегодня поговорим о числах и строках.\n",
        "\n",
        "* Переменные с типом \"строка\" обозначаются как str(сокращение от string)\n",
        "\n",
        "* Числовые переменные делятся на два подтипа:\n",
        "** int для целых чисел (45)\n",
        "** float для дробных (45.821)\n",
        "\n",
        "Проверить тип переменной можно с помощью функции ```type()```\n",
        "где в скобках будет ваша переменная"
      ]
    },
    {
      "cell_type": "code",
      "metadata": {
        "id": "IW5RJqr5NJZH",
        "colab": {
          "base_uri": "https://localhost:8080/"
        },
        "outputId": "614de50b-0583-498c-dc6e-5e71edf44509"
      },
      "source": [
        "# создаем переменную, присваиваем значение\n",
        "var = 23\n",
        "type(var) #проверяем ее тип"
      ],
      "execution_count": 4,
      "outputs": [
        {
          "output_type": "execute_result",
          "data": {
            "text/plain": [
              "int"
            ]
          },
          "metadata": {},
          "execution_count": 4
        }
      ]
    },
    {
      "cell_type": "markdown",
      "metadata": {
        "id": "DcCeZI-DJev6"
      },
      "source": [
        "Если Вы работаете в PyCharm, то без функции \n",
        "```print()``` \n",
        "ваши команды не выведутся на печать (только исполнятся внутри интерпретатора). Если код срабатывает без ошибок, но результат не появляется, напишите \n",
        "```print()```, и поместите в скобки то, что хотите вывести на печать (это может быть переменная или функция)"
      ]
    },
    {
      "cell_type": "code",
      "metadata": {
        "id": "kDPMBijnKTpn",
        "colab": {
          "base_uri": "https://localhost:8080/"
        },
        "outputId": "860e6e9d-29ac-4175-c4cf-9ada994501ee"
      },
      "source": [
        "print(var) #выводим на печать значение, присвоенное переменной var\n",
        "print(type(var)) # выводим на печать функцию, которая покажет тип переменной var"
      ],
      "execution_count": 5,
      "outputs": [
        {
          "output_type": "stream",
          "name": "stdout",
          "text": [
            "23\n",
            "<class 'int'>\n"
          ]
        }
      ]
    },
    {
      "cell_type": "code",
      "metadata": {
        "id": "4-NMOS-qP6qj",
        "colab": {
          "base_uri": "https://localhost:8080/"
        },
        "outputId": "01d9e136-edb5-4248-901b-44d95980efba"
      },
      "source": [
        "# создадим другую переменную, с другим типом\n",
        "var2 = 34.09\n",
        "type(var2) # проверяем тип"
      ],
      "execution_count": 6,
      "outputs": [
        {
          "output_type": "execute_result",
          "data": {
            "text/plain": [
              "float"
            ]
          },
          "metadata": {},
          "execution_count": 6
        }
      ]
    },
    {
      "cell_type": "code",
      "metadata": {
        "id": "SmfB-RrmQRmA",
        "colab": {
          "base_uri": "https://localhost:8080/"
        },
        "outputId": "b4ccd4c8-4d65-4bac-ebcd-d18ca8a053e6"
      },
      "source": [
        "# создадим третью, с другим типом\n",
        "var3 = \"meow\" # не забудьте, что строки пишутся в кавычках, двойных или одинарных\n",
        "type(var3) # проверяем тип"
      ],
      "execution_count": 7,
      "outputs": [
        {
          "output_type": "execute_result",
          "data": {
            "text/plain": [
              "str"
            ]
          },
          "metadata": {},
          "execution_count": 7
        }
      ]
    },
    {
      "cell_type": "markdown",
      "metadata": {
        "id": "42TDggDRQ-17"
      },
      "source": [
        "## операции с переменными"
      ]
    },
    {
      "cell_type": "markdown",
      "metadata": {
        "id": "2l7GbBdrRCpQ"
      },
      "source": [
        "с числовыми переменными можно делать все то, что мы делали с числами в первых ячейках (складывать, умножать, возводить в степень и тд)"
      ]
    },
    {
      "cell_type": "code",
      "metadata": {
        "id": "ifWeiU9qQrGv",
        "colab": {
          "base_uri": "https://localhost:8080/",
          "height": 34
        },
        "outputId": "ce1847c7-18a2-4397-d97d-591b01c120d1"
      },
      "source": [
        "var+var2 #сложили первую и вторую переменную, т.к. они числовые\n"
      ],
      "execution_count": null,
      "outputs": [
        {
          "output_type": "execute_result",
          "data": {
            "text/plain": [
              "57.09"
            ]
          },
          "metadata": {
            "tags": []
          },
          "execution_count": 11
        }
      ]
    },
    {
      "cell_type": "code",
      "metadata": {
        "id": "uUKbO1o9RO7W",
        "colab": {
          "base_uri": "https://localhost:8080/",
          "height": 199
        },
        "outputId": "919986bb-e5ad-4fe5-e390-1399e59cf675"
      },
      "source": [
        "var2+var3 \n",
        "# а здесь появляется ошибка, т.к. мы не можем складывать и вычитать и делить переменные разных типов (строку и число)"
      ],
      "execution_count": null,
      "outputs": [
        {
          "output_type": "error",
          "ename": "TypeError",
          "evalue": "ignored",
          "traceback": [
            "\u001b[0;31m---------------------------------------------------------------------------\u001b[0m",
            "\u001b[0;31mTypeError\u001b[0m                                 Traceback (most recent call last)",
            "\u001b[0;32m<ipython-input-16-c5f3c77784af>\u001b[0m in \u001b[0;36m<module>\u001b[0;34m()\u001b[0m\n\u001b[0;32m----> 1\u001b[0;31m \u001b[0mvar2\u001b[0m\u001b[0;34m+\u001b[0m\u001b[0mvar3\u001b[0m\u001b[0;34m\u001b[0m\u001b[0;34m\u001b[0m\u001b[0m\n\u001b[0m\u001b[1;32m      2\u001b[0m \u001b[0;31m# а здесь появляется ошибка, т.к. мы не можем складывать и вычитать и делить переменные разных типов (строку и число)\u001b[0m\u001b[0;34m\u001b[0m\u001b[0;34m\u001b[0m\u001b[0;34m\u001b[0m\u001b[0m\n",
            "\u001b[0;31mTypeError\u001b[0m: unsupported operand type(s) for +: 'float' and 'str'"
          ]
        }
      ]
    },
    {
      "cell_type": "code",
      "metadata": {
        "id": "tnnAVXp7RZdU",
        "colab": {
          "base_uri": "https://localhost:8080/",
          "height": 34
        },
        "outputId": "5fc949b9-63bb-4fe7-949c-d3eaeb9e829f"
      },
      "source": [
        "var*var3 #однако мы можем умножать строку на число (или на переменную, в которую сохранили число)\n",
        "#  мы умножили строку \"meow\" на число 23, таким образом у нас появилась новая длинная строка, где meow повторяется 23 раза"
      ],
      "execution_count": null,
      "outputs": [
        {
          "output_type": "execute_result",
          "data": {
            "text/plain": [
              "'meowmeowmeowmeowmeowmeowmeowmeowmeowmeowmeowmeowmeowmeowmeowmeowmeowmeowmeowmeowmeowmeowmeow'"
            ]
          },
          "metadata": {
            "tags": []
          },
          "execution_count": 13
        }
      ]
    },
    {
      "cell_type": "markdown",
      "metadata": {
        "id": "Oq-CCBxXSQRq"
      },
      "source": [
        "Также мы можем пересохранять значения переменных"
      ]
    },
    {
      "cell_type": "code",
      "metadata": {
        "id": "gIowVTmkRvNN",
        "colab": {
          "base_uri": "https://localhost:8080/",
          "height": 67
        },
        "outputId": "431d9566-ad08-44d0-ff80-c1ba06e97946"
      },
      "source": [
        "print(var) #функция print выводит на печать то, что мы запишем в ее скобках, у нас - переменная со значением 23\n",
        "var = 2 # сохранили новое значение в уже существующую переменную var\n",
        "print(var)\n",
        "var = var * 10 # пересохраняем новое значение, которое равно старому, умноженному на 10\n",
        "print(var) "
      ],
      "execution_count": null,
      "outputs": [
        {
          "output_type": "stream",
          "text": [
            "25\n",
            "2\n",
            "20\n"
          ],
          "name": "stdout"
        }
      ]
    },
    {
      "cell_type": "markdown",
      "metadata": {
        "id": "0g9Cl4u9TKSy"
      },
      "source": [
        "пересохранения переменных - это удобно, но будьте осторожны, когда мы придем к теме циклов, там этим лучше не злоупотреблять"
      ]
    },
    {
      "cell_type": "markdown",
      "metadata": {
        "id": "fw01ApX0TW1I"
      },
      "source": [
        "### операции со строками"
      ]
    },
    {
      "cell_type": "markdown",
      "metadata": {
        "id": "8fTwOArLUf98"
      },
      "source": [
        "1. строки можно *конкатенировать*, присоединять друг к другу"
      ]
    },
    {
      "cell_type": "code",
      "metadata": {
        "id": "SdSIkKdkUJQv",
        "colab": {
          "base_uri": "https://localhost:8080/",
          "height": 50
        },
        "outputId": "9923d85d-329f-46d7-fc26-75d45063f423"
      },
      "source": [
        "line1 = \"я позвал в кино \" # создали первую переменную\n",
        "line2 = \"этих людей \" # создали вторую\n",
        "\n",
        "concat = line2+line1 # новая переменная, в нее сохраним результат конкатенации первых двух переменных\n",
        "another_concat = line1+line2 # а это еще одна, мы снова конкатенируем, но в обратном порядке (!)\n",
        "\n",
        "# результаты! \n",
        "print(concat)\n",
        "print(another_concat)"
      ],
      "execution_count": null,
      "outputs": [
        {
          "output_type": "stream",
          "text": [
            "этих людей я позвал в кино \n",
            "я позвал в кино этих людей \n"
          ],
          "name": "stdout"
        }
      ]
    },
    {
      "cell_type": "markdown",
      "metadata": {
        "id": "buh_mnAJQYNm"
      },
      "source": [
        "2. Выясняем длину строки функцией ```len()```"
      ]
    },
    {
      "cell_type": "code",
      "metadata": {
        "id": "SHgz476lUotP",
        "colab": {
          "base_uri": "https://localhost:8080/",
          "height": 34
        },
        "outputId": "ea08e542-8dc5-43c3-dbe5-be5f4e4ab74f"
      },
      "source": [
        "len(line1)"
      ],
      "execution_count": null,
      "outputs": [
        {
          "output_type": "execute_result",
          "data": {
            "text/plain": [
              "16"
            ]
          },
          "metadata": {
            "tags": []
          },
          "execution_count": 21
        }
      ]
    },
    {
      "cell_type": "markdown",
      "metadata": {
        "id": "HxmBxkhjQs2c"
      },
      "source": [
        "3. Дублирование строки (умножение на число)"
      ]
    },
    {
      "cell_type": "code",
      "metadata": {
        "id": "m_xIrYROWiL1",
        "colab": {
          "base_uri": "https://localhost:8080/",
          "height": 67
        },
        "outputId": "7e9a594f-6a69-4694-95a6-ed4d991bb134"
      },
      "source": [
        "# можно просто задав условия (строку и количество раз для повторения) в print()\n",
        "print(\"добрый вечер \"*2)\n",
        "\n",
        "# можно то же самое, но сохранив строку в переменную\n",
        "line1 = \"привет \"\n",
        "print(line1*4)\n",
        "\n",
        "# можно - сохранив все в переменные\n",
        "line1 = \"ну как дела \"\n",
        "count = 3\n",
        "result = line1*count #здесь мы умножили строку на число и сохранили результат в переменную result\n",
        "print(result)"
      ],
      "execution_count": null,
      "outputs": [
        {
          "output_type": "stream",
          "text": [
            "добрый вечер добрый вечер \n",
            "привет привет привет привет \n",
            "ну как дела ну как дела ну как дела \n"
          ],
          "name": "stdout"
        }
      ]
    },
    {
      "cell_type": "markdown",
      "metadata": {
        "id": "ZDFrEi4BS1uS"
      },
      "source": [
        "4. доступ по индексу"
      ]
    },
    {
      "cell_type": "markdown",
      "metadata": {
        "id": "EqntstwwTdJY"
      },
      "source": [
        "строка  - это *итерируемый* объект (мы можем пройтись по каждому из его элементов). Мы можем работать с элементами строки. Для этого нам понадобятся **индексы**, номерá элемента. Индекс записывается в квадратных скобках [ ]\n",
        "\n",
        "**!!** нумерация элементов начинается с 0, т.е. первый элемент имеет индекс [0]. \n",
        "\n",
        "Легкое правило запоминания - индекс всегда на 1 меньше чем настоящий номер элемента"
      ]
    },
    {
      "cell_type": "code",
      "metadata": {
        "id": "0OJxvs76ShbX",
        "colab": {
          "base_uri": "https://localhost:8080/",
          "height": 67
        },
        "outputId": "bd2e7766-8afe-43a6-ba5a-474c90a56aa1"
      },
      "source": [
        "new = \"психолингвистика\"\n",
        "print(new[0]) # хотим напечатать первый элемент в сторке\n",
        "print(new[3]) # печатаем 4й элемент\n",
        "print(new[-1])# хотим последний элемент, он же первый с конца"
      ],
      "execution_count": null,
      "outputs": [
        {
          "output_type": "stream",
          "text": [
            "п\n",
            "х\n",
            "а\n"
          ],
          "name": "stdout"
        }
      ]
    },
    {
      "cell_type": "markdown",
      "metadata": {
        "id": "Cl_z5o96Tnu3"
      },
      "source": [
        "    4.1. Извлечение среза"
      ]
    },
    {
      "cell_type": "markdown",
      "metadata": {
        "id": "Bvte7ersT5SL"
      },
      "source": [
        "Иногда вам может понадобиться не вся последовательность элементов, а какой-то ее кусочек. Такой кусочек называниется **срез** (англ. slice)\n",
        "\n",
        "Оператор извлечения среза: [x:y], гдк **x** – начало среза, а **y** – окончание;\n",
        "\n",
        "Обратите внимание, что символ с номером **y** в срез не входит.\n",
        "\n",
        "По умолчанию первый индекс равен 0, а второй - длине строки."
      ]
    },
    {
      "cell_type": "code",
      "metadata": {
        "id": "mzoXiBl3ROmr",
        "colab": {
          "base_uri": "https://localhost:8080/",
          "height": 118
        },
        "outputId": "78b07b28-beae-4166-dee2-d7ae8b5cee5c"
      },
      "source": [
        "print(new) # сначала напечатаем строку целиком\n",
        "\n",
        "print(new[2:5]) #а теперь напечатаем элементы строки, с третьего по шестой\n",
        "\n",
        "#можем сохранить слайс/срез в новую переменную\n",
        "piece = new[5:-1] # сохраним элементы с шестого до последнего\n",
        "print(piece) # давайте напечатаем сохраненное на предыдущем шаге\n",
        "\n",
        "print(new[:3]) # напечатаетм слайс/срез элементов с первого до четвертого, четвертый не включая\n",
        "\n",
        "print(new[3:]) # напечатаетм слайс/срез элементов с четвертого и до конца\n",
        "\n",
        "print(new[:]) # напечатаетм слайс/срез элементов, но так как они не заданы, они берутся по дефолту - первый и последний\n"
      ],
      "execution_count": null,
      "outputs": [
        {
          "output_type": "stream",
          "text": [
            "психолингвистика\n",
            "ихо\n",
            "лингвистик\n",
            "пси\n",
            "холингвистика\n",
            "психолингвистика\n"
          ],
          "name": "stdout"
        }
      ]
    },
    {
      "cell_type": "markdown",
      "metadata": {
        "id": "NkDrPfvMY-4n"
      },
      "source": [
        "    4.2. можно задать шаг, с которым нужно извлекать срез/слайс. Шаг обозначается третьим в квадратных скобках\n",
        "    [начало:конец:шаг]"
      ]
    },
    {
      "cell_type": "code",
      "metadata": {
        "id": "z7QXqW56U5DY",
        "colab": {
          "base_uri": "https://localhost:8080/",
          "height": 67
        },
        "outputId": "ea79158f-6ab7-4669-94e6-9ad2c2ab1bab"
      },
      "source": [
        "# напечатаем строку с первого до последнего элемента(т.к. индексы не заданы), но шаг в обратном порядке\n",
        "print(new[::-1]) \n",
        "\n",
        "# с первого до последнего элемента(т.к. индексы не заданы), шаг в прямом порядке, через три\n",
        "print(new[::3])\n",
        "\n",
        "# напечатаем строку с третьего до последнего элемента(т.к. индексы не заданы), но шаг в обратном порядке\n",
        "print(new[2::-1]) \n"
      ],
      "execution_count": null,
      "outputs": [
        {
          "output_type": "stream",
          "text": [
            "акитсивгнилохисп\n",
            "пхивта\n",
            "исп\n"
          ],
          "name": "stdout"
        }
      ]
    },
    {
      "cell_type": "markdown",
      "metadata": {
        "id": "ysvxBvcbceB-"
      },
      "source": [
        "Мы можем работать с элементами строк:"
      ]
    },
    {
      "cell_type": "code",
      "metadata": {
        "id": "NYRoF15SgGCD"
      },
      "source": [
        "test = \"подоконник\""
      ],
      "execution_count": 35,
      "outputs": []
    },
    {
      "cell_type": "code",
      "metadata": {
        "id": "WrIv_xJJZWaD",
        "colab": {
          "base_uri": "https://localhost:8080/"
        },
        "outputId": "da84ebe0-59bb-4b3e-a9c8-7859a27d77ea"
      },
      "source": [
        "print (test) # посмотрим на изначальное слово\n",
        "print(test[:2]) # напечатаем срез/слайс из 1 и 2 элементов (технически, это с 1 по 3, 3 не включая) \n",
        "print(test[-3:-1]) # напечатаем срез/слайс элементов с последнего до третьего с конца\n",
        "test = test[:2]+test[-3:-1] # конкатенируем их, (пере)сохраним в переменную\n",
        "print(test) # печатаем значение переменной\n",
        "\n",
        "\n",
        "# позапускайте ячейку несколько раз. Попробуйте объяснить, что происходит с результатами :)"
      ],
      "execution_count": 36,
      "outputs": [
        {
          "output_type": "stream",
          "name": "stdout",
          "text": [
            "подоконник\n",
            "по\n",
            "ни\n",
            "пони\n"
          ]
        }
      ]
    },
    {
      "cell_type": "markdown",
      "metadata": {
        "id": "7rPhjc3TkzAK"
      },
      "source": [
        "# дополнительное\n",
        "    мы об этом не говорили, но вот, что еще можно делать со строками:"
      ]
    },
    {
      "cell_type": "markdown",
      "metadata": {
        "id": "M2hZQ1HBiggQ"
      },
      "source": [
        "5. делим строку методом ```split()```"
      ]
    },
    {
      "cell_type": "code",
      "metadata": {
        "id": "Wg40Dr7FioYU",
        "colab": {
          "base_uri": "https://localhost:8080/",
          "height": 50
        },
        "outputId": "7a372da7-6964-4e13-b8c4-a145a3503a11"
      },
      "source": [
        "x = \"Mr Johnson, you never stay in Paris, do you?\"\n",
        "print(x.split()) # если в скобках не задан разделитель, то разбивает по пробелам\n",
        "print(x.split(',')) # сделаем разделителем запятую\n",
        "\n",
        "# в результате получается список! Мы поговорим о списках на следующем занятии"
      ],
      "execution_count": null,
      "outputs": [
        {
          "output_type": "stream",
          "text": [
            "['Mr', 'Johnson,', 'you', 'never', 'stay', 'in', 'Paris,', 'do', 'you?']\n",
            "['Mr Johnson', ' you never stay in Paris', ' do you?']\n"
          ],
          "name": "stdout"
        }
      ]
    },
    {
      "cell_type": "markdown",
      "metadata": {
        "id": "aDSn1_Etio1D"
      },
      "source": [
        "6. меняем регистр"
      ]
    },
    {
      "cell_type": "code",
      "metadata": {
        "id": "c3kajVnRir_d",
        "colab": {
          "base_uri": "https://localhost:8080/",
          "height": 101
        },
        "outputId": "21786a91-c899-4b2e-dafe-dda0552ef84e"
      },
      "source": [
        "x = \"Mr Johnson, do you live in London?\"\n",
        "print(x.upper()) # Преобразование строки к верхнему регистру\n",
        "print(x.lower()) # Преобразование строки к нижнему регистру\n",
        "print(x.capitalize()) # Переводит первый символ строки в верхний регистр, а все остальные в нижний\n",
        "print(x.swapcase()) # Переводит символы нижнего регистра в верхний, а верхнего – в нижний\n",
        "print(x.title()) # Первую букву каждого слова переводит в верхний регистр, а все остальные в нижний"
      ],
      "execution_count": null,
      "outputs": [
        {
          "output_type": "stream",
          "text": [
            "MR JOHNSON, DO YOU LIVE IN LONDON?\n",
            "mr johnson, do you live in london?\n",
            "Mr johnson, do you live in london?\n",
            "mR jOHNSON, DO YOU LIVE IN lONDON?\n",
            "Mr Johnson, Do You Live In London?\n"
          ],
          "name": "stdout"
        }
      ]
    },
    {
      "cell_type": "markdown",
      "metadata": {
        "id": "rSwv6T6Ris-l"
      },
      "source": [
        "7. удаляем пробельные символы"
      ]
    },
    {
      "cell_type": "code",
      "metadata": {
        "id": "a6jDthG9jPTy",
        "colab": {
          "base_uri": "https://localhost:8080/",
          "height": 67
        },
        "outputId": "667b527b-49eb-4187-e743-956e1c9ff571"
      },
      "source": [
        "x = \"    В этой строке было слишком много пробелов    \"\n",
        "print(x.lstrip())\t# Удаление пробельных символов в начале строки\n",
        "print(x.rstrip())\t# Удаление пробельных символов в конце строки\n",
        "print(x.strip())\t# Удаление пробельных символов в начале и в конце строки\n"
      ],
      "execution_count": null,
      "outputs": [
        {
          "output_type": "stream",
          "text": [
            "В этой строке было слишком много пробелов    \n",
            "    В этой строке было слишком много пробелов\n",
            "В этой строке было слишком много пробелов\n"
          ],
          "name": "stdout"
        }
      ]
    },
    {
      "cell_type": "markdown",
      "metadata": {
        "id": "7wxgzAQPi6qN"
      },
      "source": [
        "8. состоит ли строка из.. (каждый из методов возвращает True или False, в зависимости оттого, выполняется ли условие)"
      ]
    },
    {
      "cell_type": "code",
      "metadata": {
        "id": "PMt4DJcFi6Kn",
        "colab": {
          "base_uri": "https://localhost:8080/",
          "height": 134
        },
        "outputId": "1a4f5944-bda5-4088-ba7f-b5db9be65158"
      },
      "source": [
        "x = \"Hello\"\n",
        "print(x.isdigit())\t# Состоит ли строка из цифр\n",
        "print(x.isalpha())\t# Состоит ли строка из букв\n",
        "print(x.isalnum())\t# Состоит ли строка из цифр или букв\n",
        "print(x.islower())\t# Состоит ли строка из символов в нижнем регистре\n",
        "print(x.isupper())\t# Состоит ли строка из символов в верхнем регистре\n",
        "print(x.isspace())\t# Состоит ли строка из неотображаемых символов (пробел, символ перевода страницы ('\\f'), \"новая строка\" ('\\n'), \"перевод каретки\" ('\\r'), \"горизонтальная табуляция\" ('\\t') и \"вертикальная табуляция\" ('\\v'))\n",
        "print(x.istitle())\t# Начинаются ли слова в строке с заглавной буквы"
      ],
      "execution_count": null,
      "outputs": [
        {
          "output_type": "stream",
          "text": [
            "False\n",
            "True\n",
            "True\n",
            "False\n",
            "False\n",
            "False\n",
            "True\n"
          ],
          "name": "stdout"
        }
      ]
    },
    {
      "cell_type": "markdown",
      "metadata": {
        "id": "OaRaw_Xhe_WW"
      },
      "source": [
        "## домашнее задание: \n",
        "(можно выполнять прям в ячейках, или скопировав код в \n",
        "PyCharm)\n"
      ]
    },
    {
      "cell_type": "code",
      "metadata": {
        "id": "7ULyIqr9rjqZ",
        "colab": {
          "base_uri": "https://localhost:8080/"
        },
        "outputId": "de6a096f-be87-4cf9-91c6-0765c4df2207"
      },
      "source": [
        "# задание 1\n",
        "# какие из этих строк можно конкатенировать? Какие умножать? Какие вычитать? Запишите все результаты, которые у Вас получились\n",
        "a = 23\n",
        "b = 34.02\n",
        "c = \"python is cool\"\n",
        "d = \"you are cool, too\"\n",
        "\n",
        "# Можно конкатенировать:\n",
        "print(a + b,\n",
        "      a + a,\n",
        "      b + b,\n",
        "      c + \" \" + d,\n",
        "      c + \" \" + c, \n",
        "      d + \" \" + d, sep=\"\\n\")\n",
        "\n",
        "# Нельзя конкатенировать:\n",
        "# a+c, a+d, a+b+c, a+b+d, a+c+d, a+b+c+d, b+c, b+d, b+c+d\n",
        "\n",
        "# Можно умножать\n",
        "print(a * b,\n",
        "      a * c,\n",
        "      a * d,\n",
        "      a * a, \n",
        "      b * b, sep=\"\\n\")\n",
        "\n",
        "# Можно вычитать\n",
        "print(a - b,\n",
        "      b - a,\n",
        "      a - a,\n",
        "      b - b, sep=\"\\n\")"
      ],
      "execution_count": 55,
      "outputs": [
        {
          "output_type": "stream",
          "name": "stdout",
          "text": [
            "57.02\n",
            "46\n",
            "68.04\n",
            "python is cool you are cool, too\n",
            "python is cool python is cool\n",
            "you are cool, too you are cool, too\n",
            "782.46\n",
            "python is coolpython is coolpython is coolpython is coolpython is coolpython is coolpython is coolpython is coolpython is coolpython is coolpython is coolpython is coolpython is coolpython is coolpython is coolpython is coolpython is coolpython is coolpython is coolpython is coolpython is coolpython is coolpython is cool\n",
            "you are cool, tooyou are cool, tooyou are cool, tooyou are cool, tooyou are cool, tooyou are cool, tooyou are cool, tooyou are cool, tooyou are cool, tooyou are cool, tooyou are cool, tooyou are cool, tooyou are cool, tooyou are cool, tooyou are cool, tooyou are cool, tooyou are cool, tooyou are cool, tooyou are cool, tooyou are cool, tooyou are cool, tooyou are cool, tooyou are cool, too\n",
            "529\n",
            "1157.3604000000003\n",
            "-11.020000000000003\n",
            "11.020000000000003\n",
            "0\n",
            "0.0\n"
          ]
        }
      ]
    },
    {
      "cell_type": "code",
      "metadata": {
        "id": "rFbWmOQgiP3d",
        "colab": {
          "base_uri": "https://localhost:8080/"
        },
        "outputId": "91c7dec4-1d85-4927-93f5-85d8cbcab0d9"
      },
      "source": [
        "# задание 2\n",
        "\"\"\"\n",
        "Придумайте такую строку (на любом знакомом Вам языке),чтобы она состояла из трех других (повторы строки разрешены).\n",
        "Напишите код. Если вы можете сделать это более, чем одним способом, напишите все способы\n",
        "\"\"\"\n",
        "line1 = \"вчера вечером Саша пошел в кино\"\n",
        "line2 = \"на экранах шла 'Дюна'\"\n",
        "line3 = \"билет стоил 500 рублей\"\n",
        "print(line1, line2, line3, sep=\", \")\n",
        "print(line1 + \", \" + line2 + \", \" + line3)\n",
        "print(f\"{line1} несмотря на то, что {line2}, а {line3}\")\n",
        "print(line1[:14] + line2 + \", \" + line3[:6] + \"на которую\" + line3[5:])"
      ],
      "execution_count": 47,
      "outputs": [
        {
          "output_type": "stream",
          "name": "stdout",
          "text": [
            "вчера вечером Саша пошел в кино, на экранах шла 'Дюна', билет стоил 500 рублей\n",
            "вчера вечером Саша пошел в кино, на экранах шла 'Дюна', билет стоил 500 рублей\n",
            "вчера вечером Саша пошел в кино несмотря на то, что на экранах шла 'Дюна', а билет стоил 500 рублей\n",
            "вчера вечером на экранах шла 'Дюна', билет на которую стоил 500 рублей\n"
          ]
        }
      ]
    },
    {
      "cell_type": "code",
      "metadata": {
        "id": "axJ6u-qwsOxy",
        "colab": {
          "base_uri": "https://localhost:8080/"
        },
        "outputId": "8540d300-41fd-41e7-835e-12a4db0076cc"
      },
      "source": [
        "# задание 3\n",
        "\"\"\"\n",
        "Как из слова \"апельсин\" сделать слово \"спаниель\" ? \n",
        "Подсказка: вам помогут срезы и операции с индексами\n",
        "\"\"\"\n",
        "word = \"апельсин\"\n",
        "print(word[-3] + word[1::-1] + word[-1:-3:-1] + word[2:5])\n"
      ],
      "execution_count": 61,
      "outputs": [
        {
          "output_type": "stream",
          "name": "stdout",
          "text": [
            "спаниель\n"
          ]
        }
      ]
    },
    {
      "cell_type": "code",
      "metadata": {
        "id": "-RcJ1FISsSPx",
        "colab": {
          "base_uri": "https://localhost:8080/"
        },
        "outputId": "2d385084-2c88-4f56-d630-283d04810379"
      },
      "source": [
        "# задание 4 (выполняется по желанию)\n",
        "\"\"\"элементы в переменной text преобразуйте в нижний регистр, а затем запишите наоборот, с последнего элемента по первый\"\"\"\n",
        "text = \"WOW,NOEL SEES LEON\"\n",
        "print(text.lower()[::-1])\n"
      ],
      "execution_count": 65,
      "outputs": [
        {
          "output_type": "stream",
          "name": "stdout",
          "text": [
            "noel sees leon,wow\n"
          ]
        }
      ]
    },
    {
      "cell_type": "code",
      "metadata": {
        "id": "YGLMAqT7VU-A"
      },
      "source": [
        ""
      ],
      "execution_count": null,
      "outputs": []
    }
  ]
}